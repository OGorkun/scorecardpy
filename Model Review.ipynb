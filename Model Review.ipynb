{
 "cells": [
  {
   "cell_type": "code",
   "execution_count": null,
   "id": "c821df48",
   "metadata": {},
   "outputs": [],
   "source": [
    "%load_ext autoreload\n",
    "%autoreload 2"
   ]
  },
  {
   "cell_type": "code",
   "execution_count": null,
   "id": "09234e47",
   "metadata": {},
   "outputs": [],
   "source": [
    "import datetime as dt\n",
    "import scorecardpy as sc\n",
    "import pandas as pd\n",
    "import numpy as np\n",
    "import seaborn as sns\n",
    "import matplotlib.pyplot as plt\n",
    "from pandasql import sqldf"
   ]
  },
  {
   "cell_type": "markdown",
   "id": "a8e02887",
   "metadata": {},
   "source": [
    "# Data"
   ]
  },
  {
   "cell_type": "markdown",
   "id": "0fac6198",
   "metadata": {},
   "source": [
    "<span style=\"color:red\">Start of dummy part </span>\n",
    "    \n",
    "<span style=\"color:red\">___________________________</span>"
   ]
  },
  {
   "cell_type": "code",
   "execution_count": null,
   "id": "d8613960",
   "metadata": {},
   "outputs": [],
   "source": [
    "# load germancredit data\n",
    "smp_full = sc.germancredit()\n",
    "smp_full['target'] = smp_full['creditability'].apply(lambda x: 1 if x == 'bad' else 0)\n",
    "smp_full = smp_full.drop(columns = ['creditability'])\n",
    "\n",
    "# increasing the sample size by duplication\n",
    "for i in range(5):\n",
    "    smp_full = pd.concat([smp_full, smp_full])\n",
    "\n",
    "# preparing df with dates in YYYYMMDD int format\n",
    "date_index = pd.date_range(start='7/31/2017', end='6/30/2023', freq='M')\n",
    "date_frame = date_index.to_frame(index=False, name = 'date_col')\n",
    "date_frame.index = date_frame.index + 1\n",
    "date_frame['RepDate_End'] = date_frame['date_col'].dt.strftime('%Y%m%d').astype(int)\n",
    "\n",
    "# assigning random dates\n",
    "smp_full['RepDate_End'] = np.random.randint(1, 73, smp_full.shape[0])\n",
    "smp_full['RepDate_End'] = smp_full['RepDate_End'].map(date_frame['RepDate_End'])"
   ]
  },
  {
   "cell_type": "code",
   "execution_count": null,
   "id": "41f3c006",
   "metadata": {},
   "outputs": [],
   "source": [
    "breaks_list = sc.germancredit_breaks_list()\n",
    "_, bins = sc.woebin(smp_full, y='target', x=list(breaks_list.keys()), breaks_list=breaks_list)\n",
    "\n",
    "card = sc.germancredit_scorecard_points()\n",
    "\n",
    "smp_full_score = sc.woebin_ply(smp_full, bins=bins)\n",
    "smp_full_score['score'] = sc.scorecard_ply(smp_full, card, print_step=0)"
   ]
  },
  {
   "cell_type": "markdown",
   "id": "a4acaf8a",
   "metadata": {},
   "source": [
    "<span style=\"color:red\">___________________________</span>\n",
    "\n",
    "<span style=\"color:red\">End of dummy part</span>"
   ]
  },
  {
   "cell_type": "markdown",
   "id": "3f04bca7",
   "metadata": {},
   "source": [
    "### Development sample (train)"
   ]
  },
  {
   "cell_type": "code",
   "execution_count": null,
   "id": "1c779d49",
   "metadata": {},
   "outputs": [],
   "source": [
    "smp_dev = smp_full_score[smp_full_score['RepDate_End'].between(20170731, 20200630)]"
   ]
  },
  {
   "cell_type": "code",
   "execution_count": null,
   "id": "f1e2bee3",
   "metadata": {},
   "outputs": [],
   "source": [
    "smp_dev['quarter'] = ' Dev.Sample'"
   ]
  },
  {
   "cell_type": "markdown",
   "id": "3c5914b4",
   "metadata": {},
   "source": [
    "### Recent sample (without outcome period - last year)"
   ]
  },
  {
   "cell_type": "code",
   "execution_count": null,
   "id": "bb0ffa96",
   "metadata": {},
   "outputs": [],
   "source": [
    "smp_rec = smp_full_score[smp_full_score['RepDate_End'].between(20220731, 20230630)]\n",
    "smp_rec['quarter'] = smp_rec['RepDate_End'].transform(lambda x: str(x//10000) +'Q'+ str((x//100 % 100 - 1) // 3 + 1)) "
   ]
  },
  {
   "cell_type": "code",
   "execution_count": null,
   "id": "543e81bb",
   "metadata": {},
   "outputs": [],
   "source": [
    "# only end-quarters are taken into analysis for BEH scorecards (do not run for APP scorecards)\n",
    "smp_rec = smp_rec[(smp_rec['RepDate_End']//100%100).isin([3,6,9,12])]"
   ]
  },
  {
   "cell_type": "markdown",
   "id": "859c4ccd",
   "metadata": {},
   "source": [
    "### Validation sample (last 2-3 years)"
   ]
  },
  {
   "cell_type": "code",
   "execution_count": null,
   "id": "70c9900a",
   "metadata": {},
   "outputs": [],
   "source": [
    "smp_val = smp_full_score[smp_full_score['RepDate_End'].between(20190731, 20220630)]\n",
    "smp_val['quarter'] = smp_val['RepDate_End'].transform(lambda x: str(x//10000) +'Q'+ str((x//100 % 100 - 1) // 3 + 1)) "
   ]
  },
  {
   "cell_type": "code",
   "execution_count": null,
   "id": "1cb3678b",
   "metadata": {},
   "outputs": [],
   "source": [
    "# only end-quarters are taken into analysis for BEH scorecards (do not run for APP scorecards)\n",
    "smp_val = smp_val[(smp_val['RepDate_End']//100%100).isin([3,6,9,12])]"
   ]
  },
  {
   "cell_type": "markdown",
   "id": "34a0322c",
   "metadata": {},
   "source": [
    "# 1. Testing Scorecard"
   ]
  },
  {
   "cell_type": "code",
   "execution_count": null,
   "id": "a4382348",
   "metadata": {},
   "outputs": [],
   "source": [
    "# good/bad label\n",
    "target = 'target'\n",
    "\n",
    "# date column (e.g. snapshot date or application date)\n",
    "date = 'quarter'\n",
    "\n",
    "# raw score\n",
    "score = 'score'\n",
    "\n",
    "# list of scorecard variables as named in all datasets (e.g. var_1_scr, ..., var_n_scr)\n",
    "var_list = []\n",
    "for i in list(card.keys()):\n",
    "    if i != 'basepoints':\n",
    "        var_list.append(i+'_woe')"
   ]
  },
  {
   "cell_type": "code",
   "execution_count": null,
   "id": "1908d8f3",
   "metadata": {},
   "outputs": [],
   "source": [
    "# defining samples for gini and psi calculation ([date, score, var_1_scr, ..., var_n_scr] + target for smp_gini) \n",
    "smp_gini = pd.concat([smp_dev, smp_val])\n",
    "smp_psi = pd.concat([smp_val, smp_rec])"
   ]
  },
  {
   "cell_type": "code",
   "execution_count": null,
   "id": "6a347d54",
   "metadata": {},
   "outputs": [],
   "source": [
    "# Bad Rate over time\n",
    "gini_ot = smp_gini[[date, target]].groupby([date]).agg(['count', 'sum' ])\n",
    "gini_ot = gini_ot.rename(columns={\"count\": \"Total\", \"sum\": \"Bads\"})\n",
    "gini_ot.columns = gini_ot.columns.droplevel(0)\n",
    "gini_ot['Bad Rate'] = (gini_ot['Bads'] / gini_ot['Total'])\n",
    "# adding Gini over time\n",
    "gini_ot['Gini'] = sc.gini_over_time(smp_gini, target, [score], date)\n",
    "\n",
    "# Gini for vars over time\n",
    "gini_vars_ot = sc.gini_over_time(smp_gini, target, var_list, date)\n",
    "\n",
    "# defining score ranges on train sample\n",
    "_, brk = pd.cut(smp_dev[score], bins=10, retbins=True, duplicates='drop')\n",
    "brk = brk.round(decimals=2)\n",
    "brk = list(filter(lambda x: x>np.nanmin(smp_dev[score]) and x<np.nanmax(smp_dev['score']), brk))\n",
    "brk = [np.nanmin(smp_psi[score])] + sorted(brk) + [np.nanmax(smp_psi[score])]\n",
    "# applying score ranges on smp_dev and spm_psi\n",
    "smp_dev['score_range'] = pd.cut(smp_dev[score], bins=brk, include_lowest=False)\n",
    "smp_psi['score_range'] = pd.cut(smp_psi[score], bins=brk, include_lowest=False)\n",
    "# PSI over time (score_range) \n",
    "psi_ot = sc.psi_over_time(smp_dev, smp_psi, ['score_range'], date)\n",
    "# PSI for WoE variables over time\n",
    "psi_vars_ot = sc.psi_over_time(smp_dev, smp_psi, var_list, date)\n",
    "\n",
    "# calculating hhi over time\n",
    "smp_hhi = pd.concat([smp_dev, smp_psi])\n",
    "hhi_ot = smp_hhi.groupby(date).agg({'score_range': sc.hhi})\n",
    "hhi_ot = hhi_ot.rename(columns={\"score_range\": \"HHI\"})\n",
    "\n",
    "# exporting results to excel\n",
    "writer = pd.ExcelWriter('1_scorecard_performance.xlsx', engine='xlsxwriter')\n",
    "gini_ot.to_excel(writer, sheet_name='Gini_OT')\n",
    "gini_vars_ot.to_excel(writer, sheet_name='Gini_Vars_OT')\n",
    "psi_ot.to_excel(writer, sheet_name='PSI_OT')\n",
    "psi_vars_ot.to_excel(writer, sheet_name='PSI_Vars_OT')\n",
    "hhi_ot.to_excel(writer, sheet_name='HHI_OT')\n",
    "writer.close()"
   ]
  },
  {
   "cell_type": "markdown",
   "id": "587a281d",
   "metadata": {},
   "source": [
    "# 2. Scorecard Recalibration"
   ]
  },
  {
   "cell_type": "code",
   "execution_count": null,
   "id": "9ec55767",
   "metadata": {},
   "outputs": [],
   "source": [
    "# Calibration sample should contain all available history without any exclusion of the periods\n",
    "smp_calib = smp_full_score\n",
    "\n",
    "# good/bad label\n",
    "target = 'target'\n",
    "\n",
    "# raw score\n",
    "score = 'score'"
   ]
  },
  {
   "cell_type": "code",
   "execution_count": null,
   "id": "5e52f2df",
   "metadata": {
    "scrolled": true
   },
   "outputs": [],
   "source": [
    "intercept, slope = sc.calibration(smp_calib, score, target)\n",
    "calib_param = pd.DataFrame({'intercept':pd.Series(intercept),'slope':pd.Series(slope)})\n",
    "calib_param.reset_index(drop=True).to_excel('2_recalibration.xlsx')\n",
    "calib_param"
   ]
  },
  {
   "cell_type": "markdown",
   "id": "e0ac86f3",
   "metadata": {},
   "source": [
    "# 3. PD estimation"
   ]
  },
  {
   "cell_type": "markdown",
   "id": "d5f8bd09",
   "metadata": {},
   "source": [
    "<span style=\"color:red\">Start of dummy part </span>\n",
    "    \n",
    "<span style=\"color:red\">___________________________</span>"
   ]
  },
  {
   "cell_type": "code",
   "execution_count": null,
   "id": "75fe0cfd",
   "metadata": {},
   "outputs": [],
   "source": [
    "smp_calib = smp_full_score\n",
    "smp_calib['quarter'] = smp_calib['RepDate_End'].transform(lambda x: str(x//10000) +'Q'+ str((x//100 % 100 - 1) // 3 + 1)) "
   ]
  },
  {
   "cell_type": "code",
   "execution_count": null,
   "id": "58d2c7d3",
   "metadata": {},
   "outputs": [],
   "source": [
    "# assigning ratings\n",
    "bins = [0,500,540,580,620,660,700,740,780,1000]\n",
    "labels = ['4.5','4.0','3.5','3.0','2.5','2.0','1.5','1.0','0.5']\n",
    "smp_calib['rating'] = pd.cut(smp_calib['score'], bins=bins, labels=labels, include_lowest=True)\n",
    "\n",
    "# calculating some PDs per rating\n",
    "smp_pd_prev = smp_calib[smp_calib['RepDate_End'].between(20170731, 20210630)]\n",
    "pd_est_prev = smp_pd_prev[['rating', 'target']].groupby(['rating']).agg(['count', 'sum' ])\n",
    "pd_est_prev = pd_est_prev.rename(columns={\"count\": \"Total\", \"sum\": \"Bads\"})\n",
    "pd_est_prev.columns = pd_est_prev.columns.droplevel(0)\n",
    "pd_est_prev['PD'] = (pd_est_prev['Bads'] / pd_est_prev['Total'])\n",
    "\n",
    "# creating a sample for PD estimation/testing\n",
    "smp_pd = smp_calib[['quarter', 'rating', 'target']].groupby(['quarter', 'rating']).agg(['count', 'sum' ])\n",
    "smp_pd = smp_pd.rename(columns={\"count\": \"Total\", \"sum\": \"Bads\"})\n",
    "smp_pd.columns = smp_pd.columns.droplevel(0)\n",
    "smp_pd['DR'] = (smp_pd['Bads'] / smp_pd['Total']).fillna(0)\n",
    "smp_pd = smp_pd.reset_index()\n",
    "smp_pd['PD'] = smp_pd['rating'].map(pd_est_prev['PD'])"
   ]
  },
  {
   "cell_type": "code",
   "execution_count": null,
   "id": "69be760c",
   "metadata": {},
   "outputs": [],
   "source": [
    "smp_pd"
   ]
  },
  {
   "cell_type": "markdown",
   "id": "7f154d13",
   "metadata": {},
   "source": [
    "<span style=\"color:red\">___________________________</span>\n",
    "\n",
    "<span style=\"color:red\">End of dummy part</span>"
   ]
  },
  {
   "cell_type": "code",
   "execution_count": null,
   "id": "1b19ad4e",
   "metadata": {},
   "outputs": [],
   "source": [
    "# smp_pd should contain the following columns - quarter, rating, Total, Bads, DR, PD\n"
   ]
  },
  {
   "cell_type": "code",
   "execution_count": null,
   "id": "4afde146",
   "metadata": {},
   "outputs": [],
   "source": [
    "# converting rating to float format\n",
    "smp_pd['rating_numb'] = smp_pd['rating'].astype(float)\n",
    "\n",
    "# calculating DR and Gini by rating over time\n",
    "query = \"\"\" select quarter, \n",
    "                sum(Total) as Total, \n",
    "                sum(Bads) as Bads,\n",
    "                sum(Bads)*1.00/sum(Total) as DR\n",
    "            from smp_pd \n",
    "            group by quarter\n",
    "            order by quarter\n",
    "        \"\"\"\n",
    "gini_pd_ot = sqldf(query).set_index('quarter')\n",
    "gini_pd_ot['Gini'] = -sc.gini_over_time(smp_pd, 'DR', ['rating_numb'], 'quarter', weight='Total')\n",
    "\n",
    "# calculating PSI by rating comparing to previous period\n",
    "psi_pd_ot = sc.psi_prev_period_ot(smp_pd, ['rating'], 'quarter', 'Total')\n",
    "\n",
    "# calculating HHI by rating over time\n",
    "def hhi_grp(cnt): return np.square(cnt / cnt.sum()).sum()\n",
    "hhi_pd_ot = smp_pd.groupby('quarter').agg({'Total': hhi_grp})\n",
    "\n",
    "# new PD estimates\n",
    "query = \"\"\" select rating,\n",
    "                round(sum(Bads)*1.00/sum(Total),4) as PD\n",
    "            from smp_pd \n",
    "            group by rating\n",
    "            order by rating\n",
    "        \"\"\"\n",
    "new_PD = sqldf(query).set_index('rating')\n",
    "\n",
    "# exporting results to excel\n",
    "writer = pd.ExcelWriter('3_PD_estimation.xlsx', engine='xlsxwriter')\n",
    "gini_pd_ot.to_excel(writer, sheet_name='Gini_OT')\n",
    "psi_pd_ot.to_excel(writer, sheet_name='PSI_OT')\n",
    "hhi_pd_ot.to_excel(writer, sheet_name='HHI_OT')\n",
    "new_PD.to_excel(writer, sheet_name='New_PD_Estimates')\n",
    "writer.close()"
   ]
  }
 ],
 "metadata": {
  "kernelspec": {
   "display_name": "Python 3 (ipykernel)",
   "language": "python",
   "name": "python3"
  },
  "language_info": {
   "codemirror_mode": {
    "name": "ipython",
    "version": 3
   },
   "file_extension": ".py",
   "mimetype": "text/x-python",
   "name": "python",
   "nbconvert_exporter": "python",
   "pygments_lexer": "ipython3",
   "version": "3.11.2"
  }
 },
 "nbformat": 4,
 "nbformat_minor": 5
}
